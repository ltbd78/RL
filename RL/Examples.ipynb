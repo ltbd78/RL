{
 "cells": [
  {
   "cell_type": "code",
   "execution_count": null,
   "metadata": {
    "scrolled": true
   },
   "outputs": [],
   "source": [
    "import numpy as np\n",
    "import gymnasium as gym\n",
    "\n",
    "from RL.utils import train, test, plot\n",
    "\n",
    "# discrete action space envs\n",
    "env_cartpole = gym.make('CartPole-v1')\n",
    "env_acrobot = gym.make('Acrobot-v1')\n",
    "env_mountaincar = gym.make(\"MountainCar-v0\")\n",
    "\n",
    "# continuous action space envs\n",
    "env_pendulum = gym.make('Pendulum-v1')\n",
    "env_mountaincarcontinuous = gym.make('MountainCarContinuous-v0')"
   ]
  },
  {
   "cell_type": "code",
   "execution_count": null,
   "metadata": {
    "scrolled": true
   },
   "outputs": [],
   "source": [
    "# universal params\n",
    "gamma = .99\n",
    "hidden_dim = 128\n",
    "lr = 1e-3\n",
    "device = 'cuda'\n",
    "dtype = 'float32'\n",
    "\n",
    "# agents that sample from memory\n",
    "memory_maxlen = int(1e5) # float causes error\n",
    "\n",
    "# training params\n",
    "save_freq = 10"
   ]
  },
  {
   "cell_type": "markdown",
   "metadata": {},
   "source": [
    "# CartPole"
   ]
  },
  {
   "cell_type": "code",
   "execution_count": null,
   "metadata": {
    "scrolled": true
   },
   "outputs": [],
   "source": [
    "save_dir = './experiments/cartpole/'\n",
    "max_steps = int(1e5)"
   ]
  },
  {
   "cell_type": "markdown",
   "metadata": {},
   "source": [
    "### Random"
   ]
  },
  {
   "cell_type": "code",
   "execution_count": null,
   "metadata": {
    "scrolled": true
   },
   "outputs": [],
   "source": [
    "%%time\n",
    "params = {'file_name':'random', 'max_steps':max_steps, 'start_at':0}\n",
    "train('random', env_cartpole, verbose=True, save_freq=save_freq, save_dir=save_dir, **params)"
   ]
  },
  {
   "cell_type": "markdown",
   "metadata": {},
   "source": [
    "### A2C"
   ]
  },
  {
   "cell_type": "code",
   "execution_count": null,
   "metadata": {
    "scrolled": true
   },
   "outputs": [],
   "source": [
    "%%time\n",
    "params = {'file_name':'a2c - mc, separate net', 'max_steps':max_steps, 'start_at':0,\n",
    "          'gamma':gamma, 'hidden_dim':hidden_dim, 'learning_rate':lr, 'device':device, 'dtype':dtype,\n",
    "          'activation':'relu', 'beta':0.1, 'clip':False, 'shared_network':False, 'target_update_freq':None}\n",
    "train('a2c', env_cartpole, verbose=True, save_freq=save_freq, save_dir=save_dir, **params)"
   ]
  },
  {
   "cell_type": "code",
   "execution_count": null,
   "metadata": {
    "scrolled": true
   },
   "outputs": [],
   "source": [
    "%%time\n",
    "params = {'file_name':'a2c - mc, shared net', 'max_steps':max_steps, 'start_at':0,\n",
    "          'gamma':gamma, 'hidden_dim':hidden_dim, 'learning_rate':lr, 'device':device, 'dtype':dtype,\n",
    "          'activation':'relu', 'beta':0.1, 'clip':False, 'shared_network':True, 'target_update_freq':None}\n",
    "train('a2c', env_cartpole, verbose=True, save_freq=save_freq, save_dir=save_dir, **params)"
   ]
  },
  {
   "cell_type": "code",
   "execution_count": null,
   "metadata": {
    "scrolled": true
   },
   "outputs": [],
   "source": [
    "%%time\n",
    "params = {'file_name':'a2c - td, separate net', 'max_steps':max_steps, 'start_at':0,\n",
    "          'gamma':gamma, 'hidden_dim':hidden_dim, 'learning_rate':lr, 'device':device, 'dtype':dtype,\n",
    "          'activation':'relu', 'beta':0.1, 'clip':False, 'shared_network':False, 'target_update_freq':100}\n",
    "train('a2c', env_cartpole, verbose=True, save_freq=save_freq, save_dir=save_dir, **params)"
   ]
  },
  {
   "cell_type": "code",
   "execution_count": null,
   "metadata": {
    "scrolled": true
   },
   "outputs": [],
   "source": [
    "%%time\n",
    "params = {'file_name':'a2c - td, shared net', 'max_steps':max_steps, 'start_at':0,\n",
    "          'gamma':gamma, 'hidden_dim':hidden_dim, 'learning_rate':lr, 'device':device, 'dtype':dtype,\n",
    "          'activation':'relu', 'beta':0.1, 'clip':False, 'shared_network':True, 'target_update_freq':100}\n",
    "train('a2c', env_cartpole, verbose=True, save_freq=save_freq, save_dir=save_dir, **params)"
   ]
  },
  {
   "cell_type": "markdown",
   "metadata": {},
   "source": [
    "### DQN Offline"
   ]
  },
  {
   "cell_type": "code",
   "execution_count": null,
   "metadata": {
    "scrolled": true
   },
   "outputs": [],
   "source": [
    "%%time\n",
    "params = {'file_name':'dqn - offline', 'max_steps':max_steps, 'start_at':1e4,\n",
    "          'online':False, 'gamma':gamma, 'hidden_dim':hidden_dim, 'learning_rate':lr, 'device':device, 'dtype':dtype,\n",
    "          'batch_size':32, 'clip':False, 'dueling':False, 'epsilon':1.0, 'epsilon_min':.05, 'epsilon_decay':.99, 'memory_maxlen':memory_maxlen, 'per':False, 'memory_alpha':None, 'memory_beta':None, 'target_update_freq':None}\n",
    "train('dqn', env_cartpole, verbose=True, save_freq=save_freq, save_dir=save_dir, **params)"
   ]
  },
  {
   "cell_type": "code",
   "execution_count": null,
   "metadata": {
    "scrolled": true
   },
   "outputs": [],
   "source": [
    "%%time\n",
    "params = {'file_name':'dqn - offline, double', 'max_steps':max_steps, 'start_at':1e4,\n",
    "          'online':False, 'gamma':gamma, 'hidden_dim':hidden_dim, 'learning_rate':lr, 'device':device, 'dtype':dtype,\n",
    "          'batch_size':32, 'clip':False, 'dueling':False, 'epsilon':1.0, 'epsilon_min':.05, 'epsilon_decay':.99, 'memory_maxlen':memory_maxlen, 'per':False, 'memory_alpha':None, 'memory_beta':None, 'target_update_freq':100}\n",
    "train('dqn', env_cartpole, verbose=True, save_freq=save_freq, save_dir=save_dir, **params)"
   ]
  },
  {
   "cell_type": "code",
   "execution_count": null,
   "metadata": {
    "scrolled": true
   },
   "outputs": [],
   "source": [
    "%%time\n",
    "params = {'file_name':'dqn - offline, double, dueling', 'max_steps':max_steps, 'start_at':1e4,\n",
    "          'online':False, 'gamma':gamma, 'hidden_dim':hidden_dim, 'learning_rate':lr, 'device':device, 'dtype':dtype,\n",
    "          'batch_size':32, 'clip':False, 'dueling':True, 'epsilon':1.0, 'epsilon_min':.05, 'epsilon_decay':.99, 'memory_maxlen':memory_maxlen, 'per':False, 'memory_alpha':None, 'memory_beta':None, 'target_update_freq':100}\n",
    "train('dqn', env_cartpole, verbose=True, save_freq=save_freq, save_dir=save_dir, **params)"
   ]
  },
  {
   "cell_type": "markdown",
   "metadata": {},
   "source": [
    "### DQN Online"
   ]
  },
  {
   "cell_type": "code",
   "execution_count": null,
   "metadata": {
    "scrolled": true
   },
   "outputs": [],
   "source": [
    "%%time\n",
    "params = {'file_name':'dqn - online, double', 'max_steps':max_steps, 'start_at':1e4,\n",
    "          'online':True, 'gamma':gamma, 'hidden_dim':hidden_dim, 'learning_rate':lr, 'device':device, 'dtype':dtype,\n",
    "          'batch_size':32, 'clip':False, 'dueling':False, 'epsilon':1.0, 'epsilon_min':.05, 'epsilon_decay':.99, 'memory_maxlen':memory_maxlen, 'per':False, 'memory_alpha':None, 'memory_beta':None, 'target_update_freq':100}\n",
    "train('dqn', env_cartpole, verbose=True, save_freq=save_freq, save_dir=save_dir, **params)"
   ]
  },
  {
   "cell_type": "code",
   "execution_count": null,
   "metadata": {
    "scrolled": true
   },
   "outputs": [],
   "source": [
    "%%time\n",
    "params = {'file_name':'dqn - online, double, dueling, per', 'max_steps':max_steps, 'start_at':1e4,\n",
    "          'online':True, 'gamma':gamma, 'hidden_dim':hidden_dim, 'learning_rate':lr, 'device':device, 'dtype':dtype,\n",
    "          'batch_size':32, 'clip':False, 'dueling':True, 'epsilon':1.0, 'epsilon_min':.05, 'epsilon_decay':.99, 'memory_maxlen':memory_maxlen, 'per':True, 'memory_alpha':.5, 'memory_beta':.4, 'target_update_freq':100}\n",
    "train('dqn', env_cartpole, verbose=True, save_freq=save_freq, save_dir=save_dir, **params)"
   ]
  },
  {
   "cell_type": "markdown",
   "metadata": {},
   "source": [
    "### Plots"
   ]
  },
  {
   "cell_type": "code",
   "execution_count": null,
   "metadata": {},
   "outputs": [],
   "source": [
    "plot('./experiments/cartpole/', ep_avg=False, ma_len=100, verbose=False, lim=[0, 500])"
   ]
  },
  {
   "cell_type": "markdown",
   "metadata": {},
   "source": [
    "### Test"
   ]
  },
  {
   "cell_type": "code",
   "execution_count": null,
   "metadata": {},
   "outputs": [],
   "source": [
    "env_cartpole_render = gym.make('CartPole-v1', render_mode='rgb_array')\n",
    "test('./experiments/cartpole/a2c - mc, separate net.pkl', './experiments/cartpole/a2c - mc, separate net.pth', env_cartpole_render, 1, display=True, video_dir='./experiments/cartpole/monitor')"
   ]
  },
  {
   "cell_type": "markdown",
   "metadata": {},
   "source": [
    "# Pendulum"
   ]
  },
  {
   "cell_type": "code",
   "execution_count": null,
   "metadata": {
    "scrolled": true
   },
   "outputs": [],
   "source": [
    "save_dir = './experiments/pendulum/'\n",
    "max_steps = int(1e5)\n",
    "max_episode_steps = 200"
   ]
  },
  {
   "cell_type": "markdown",
   "metadata": {},
   "source": [
    "### Random"
   ]
  },
  {
   "cell_type": "code",
   "execution_count": null,
   "metadata": {
    "scrolled": true
   },
   "outputs": [],
   "source": [
    "params = {'file_name':'random', 'max_steps':max_steps, 'start_at':0}\n",
    "train('random', env_pendulum, verbose=False, save_freq=save_freq, save_dir=save_dir, **params)"
   ]
  },
  {
   "cell_type": "markdown",
   "metadata": {},
   "source": [
    "### TD3"
   ]
  },
  {
   "cell_type": "code",
   "execution_count": null,
   "metadata": {
    "scrolled": true
   },
   "outputs": [],
   "source": [
    "%%time\n",
    "params = {'file_name':'td3', 'max_steps':max_steps, 'start_at':1e4,\n",
    "          'gamma':gamma, 'hidden_dim':hidden_dim, 'learning_rate':lr, 'device':device, 'dtype':dtype,\n",
    "          'batch_size':100, 'expl_noise':.1, 'memory_maxlen':memory_maxlen, 'noise_clip':.5, 'policy_freq':2, 'policy_noise':.2, 'tau':.005}\n",
    "train('td3', env_pendulum, verbose=True, save_freq=save_freq, save_dir=save_dir, **params)"
   ]
  },
  {
   "cell_type": "markdown",
   "metadata": {},
   "source": [
    "### A2C"
   ]
  },
  {
   "cell_type": "code",
   "execution_count": null,
   "metadata": {
    "scrolled": true
   },
   "outputs": [],
   "source": [
    "%%time\n",
    "params = {'file_name':'a2c - mc, separate network', 'max_steps':max_steps, 'start_at':0,\n",
    "          'gamma':gamma, 'hidden_dim':hidden_dim, 'learning_rate':lr, 'device':device, 'dtype':dtype,\n",
    "          'activation':'tanh', 'beta':.78, 'clip':False, 'shared_network':False, 'target_update_freq':None}\n",
    "train('a2c', env_pendulum, verbose=True, save_freq=save_freq, save_dir=save_dir, **params)"
   ]
  },
  {
   "cell_type": "code",
   "execution_count": null,
   "metadata": {
    "scrolled": true
   },
   "outputs": [],
   "source": [
    "%%time\n",
    "params = {'file_name':'a2c - mc, shared network', 'max_steps':max_steps, 'start_at':0,\n",
    "          'gamma':gamma, 'hidden_dim':hidden_dim, 'learning_rate':lr, 'device':device, 'dtype':dtype,\n",
    "          'activation':'tanh', 'beta':.78, 'clip':False, 'shared_network':True, 'target_update_freq':None}\n",
    "train('a2c', env_pendulum, verbose=True, save_freq=save_freq, save_dir=save_dir, **params)"
   ]
  },
  {
   "cell_type": "code",
   "execution_count": null,
   "metadata": {
    "scrolled": true
   },
   "outputs": [],
   "source": [
    "%%time\n",
    "params = {'file_name':'a2c - td, separate network', 'max_steps':max_steps, 'start_at':0,\n",
    "          'gamma':gamma, 'hidden_dim':hidden_dim, 'learning_rate':lr, 'device':device, 'dtype':dtype,\n",
    "          'activation':'tanh', 'beta':.78, 'clip':False, 'shared_network':False, 'target_update_freq':100}\n",
    "train('a2c', env_pendulum, verbose=True, save_freq=save_freq, save_dir=save_dir, **params)"
   ]
  },
  {
   "cell_type": "code",
   "execution_count": null,
   "metadata": {
    "scrolled": true
   },
   "outputs": [],
   "source": [
    "%%time\n",
    "params = {'file_name':'a2c - td, shared network', 'max_steps':max_steps, 'start_at':0,\n",
    "          'gamma':gamma, 'hidden_dim':hidden_dim, 'learning_rate':lr, 'device':device, 'dtype':dtype,\n",
    "          'activation':'tanh', 'beta':.78, 'clip':False, 'shared_network':True, 'target_update_freq':100}\n",
    "train('a2c', env_pendulum, verbose=True, save_freq=save_freq, save_dir=save_dir, **params)"
   ]
  },
  {
   "cell_type": "markdown",
   "metadata": {},
   "source": [
    "### Plots"
   ]
  },
  {
   "cell_type": "code",
   "execution_count": null,
   "metadata": {},
   "outputs": [],
   "source": [
    "plot('./experiments/pendulum/', ep_avg=True, ma_len=100, verbose=False)"
   ]
  },
  {
   "cell_type": "markdown",
   "metadata": {},
   "source": [
    "### Test"
   ]
  },
  {
   "cell_type": "code",
   "execution_count": null,
   "metadata": {},
   "outputs": [],
   "source": [
    "test('./experiments/pendulum/td3.pkl', './experiments/pendulum/td3.pth', env_pendulum, 1, display=True, video_dir='./experiments/pendulum/monitor')"
   ]
  },
  {
   "cell_type": "code",
   "execution_count": null,
   "metadata": {},
   "outputs": [],
   "source": [
    "test('./experiments/pendulum/td3.pkl', './experiments/pendulum/td3.pth', env_pendulum, 1, display=True, video_dir='./experiments/pendulum/monitor')"
   ]
  }
 ],
 "metadata": {
  "kernelspec": {
   "display_name": "Python 3 (ipykernel)",
   "language": "python",
   "name": "python3"
  },
  "language_info": {
   "codemirror_mode": {
    "name": "ipython",
    "version": 3
   },
   "file_extension": ".py",
   "mimetype": "text/x-python",
   "name": "python",
   "nbconvert_exporter": "python",
   "pygments_lexer": "ipython3",
   "version": "3.10.8"
  }
 },
 "nbformat": 4,
 "nbformat_minor": 4
}
